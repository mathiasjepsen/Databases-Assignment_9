{
 "cells": [
  {
   "cell_type": "markdown",
   "metadata": {},
   "source": [
    "# Assignment 09 - Relational Algebra"
   ]
  },
  {
   "cell_type": "markdown",
   "metadata": {},
   "source": [
    "### Consider this query from the classic models:"
   ]
  },
  {
   "cell_type": "markdown",
   "metadata": {},
   "source": [
    "```sql\n",
    "select customers.customerName, offices.city as office_city\n",
    "from customers, employees, offices\n",
    "where \n",
    "\tcustomers.salesRepEmployeeNumber = employees.employeeNumber and \n",
    "\temployees.officeCode = offices.officeCode and\n",
    "    customers.city = offices.city;\n",
    "```"
   ]
  },
  {
   "cell_type": "markdown",
   "metadata": {},
   "source": [
    "## 1. Rewrite the query as an expression in relational algebra"
   ]
  },
  {
   "cell_type": "markdown",
   "metadata": {},
   "source": [
    "$\\Pi_ {c.customerName} (\\rho_ {office\\_city/o.city} (\\sigma_ {c.salesRepEmployeeNumber = e.employeeNumber  \\ \\wedge \\ c.city = o.city \\ \\wedge \\ e.officeCode = o.officeCode}\\ (customers \\times employees \\times offices)))$"
   ]
  },
  {
   "cell_type": "markdown",
   "metadata": {},
   "source": [
    "## 2. Add row counts to the subexpressions"
   ]
  },
  {
   "cell_type": "markdown",
   "metadata": {},
   "source": [
    "$\\Pi_ {c.customerName} (\\rho_ {office\\_city/o.city} (\\sigma_ {c.salesRepEmployeeNumber = e.employeeNumber}(\\sigma_ {c.city = o.city}(\\sigma_ {e.officeCode = o.officeCode}\\ (customers^{122} \\times employees^{23} \\times offices^{7})))))$"
   ]
  },
  {
   "cell_type": "markdown",
   "metadata": {},
   "source": [
    "## 3. Rewrite to a better expression"
   ]
  },
  {
   "cell_type": "markdown",
   "metadata": {},
   "source": [
    "$\\Pi_ {c.customerName} (\\rho_ {office\\_city/o.city} (\\sigma_ {c.city=o.city} (customers \\bowtie^{\\bullet} employees \\bowtie^{\\bullet} offices)))$"
   ]
  }
 ],
 "metadata": {
  "kernelspec": {
   "display_name": "Python 3",
   "language": "python",
   "name": "python3"
  },
  "language_info": {
   "codemirror_mode": {
    "name": "ipython",
    "version": 3
   },
   "file_extension": ".py",
   "mimetype": "text/x-python",
   "name": "python",
   "nbconvert_exporter": "python",
   "pygments_lexer": "ipython3",
   "version": "3.7.2"
  }
 },
 "nbformat": 4,
 "nbformat_minor": 2
}
